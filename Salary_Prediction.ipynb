{
 "cells": [
  {
   "cell_type": "code",
   "execution_count": 1,
   "metadata": {},
   "outputs": [],
   "source": [
    "import pandas as pd\n",
    "import matplotlib.pyplot as plt\n"
   ]
  },
  {
   "cell_type": "code",
   "execution_count": 2,
   "metadata": {},
   "outputs": [],
   "source": [
    "df = pd.read_csv(r\"C:\\Users\\emran\\Downloads\\Salary Data.csv\")"
   ]
  },
  {
   "cell_type": "code",
   "execution_count": 3,
   "metadata": {},
   "outputs": [
    {
     "data": {
      "application/vnd.microsoft.datawrangler.viewer.v0+json": {
       "columns": [
        {
         "name": "index",
         "rawType": "int64",
         "type": "integer"
        },
        {
         "name": "Experience Years",
         "rawType": "float64",
         "type": "float"
        },
        {
         "name": "Salary",
         "rawType": "int64",
         "type": "integer"
        }
       ],
       "conversionMethod": "pd.DataFrame",
       "ref": "b61ed203-daf8-4a87-9b47-5a7a3d10c1fe",
       "rows": [
        [
         "0",
         "1.1",
         "39343"
        ],
        [
         "1",
         "1.2",
         "42774"
        ],
        [
         "2",
         "1.3",
         "46205"
        ],
        [
         "3",
         "1.5",
         "37731"
        ],
        [
         "4",
         "2.0",
         "43525"
        ],
        [
         "5",
         "2.2",
         "39891"
        ],
        [
         "6",
         "2.5",
         "48266"
        ],
        [
         "7",
         "2.9",
         "56642"
        ],
        [
         "8",
         "3.0",
         "60150"
        ],
        [
         "9",
         "3.2",
         "54445"
        ],
        [
         "10",
         "3.2",
         "64445"
        ],
        [
         "11",
         "3.5",
         "60000"
        ],
        [
         "12",
         "3.7",
         "57189"
        ],
        [
         "13",
         "3.8",
         "60200"
        ],
        [
         "14",
         "3.9",
         "63218"
        ],
        [
         "15",
         "4.0",
         "55794"
        ],
        [
         "16",
         "4.0",
         "56957"
        ],
        [
         "17",
         "4.1",
         "57081"
        ],
        [
         "18",
         "4.3",
         "59095"
        ],
        [
         "19",
         "4.5",
         "61111"
        ],
        [
         "20",
         "4.7",
         "64500"
        ],
        [
         "21",
         "4.9",
         "67938"
        ],
        [
         "22",
         "5.1",
         "66029"
        ],
        [
         "23",
         "5.3",
         "83088"
        ],
        [
         "24",
         "5.5",
         "82200"
        ],
        [
         "25",
         "5.9",
         "81363"
        ],
        [
         "26",
         "6.0",
         "93940"
        ],
        [
         "27",
         "6.2",
         "91000"
        ],
        [
         "28",
         "6.5",
         "90000"
        ],
        [
         "29",
         "6.8",
         "91738"
        ],
        [
         "30",
         "7.1",
         "98273"
        ],
        [
         "31",
         "7.9",
         "101302"
        ],
        [
         "32",
         "8.2",
         "113812"
        ],
        [
         "33",
         "8.5",
         "111620"
        ],
        [
         "34",
         "8.7",
         "109431"
        ],
        [
         "35",
         "9.0",
         "105582"
        ],
        [
         "36",
         "9.5",
         "116969"
        ],
        [
         "37",
         "9.6",
         "112635"
        ],
        [
         "38",
         "10.3",
         "122391"
        ],
        [
         "39",
         "10.5",
         "121872"
        ]
       ],
       "shape": {
        "columns": 2,
        "rows": 40
       }
      },
      "text/html": [
       "<div>\n",
       "<style scoped>\n",
       "    .dataframe tbody tr th:only-of-type {\n",
       "        vertical-align: middle;\n",
       "    }\n",
       "\n",
       "    .dataframe tbody tr th {\n",
       "        vertical-align: top;\n",
       "    }\n",
       "\n",
       "    .dataframe thead th {\n",
       "        text-align: right;\n",
       "    }\n",
       "</style>\n",
       "<table border=\"1\" class=\"dataframe\">\n",
       "  <thead>\n",
       "    <tr style=\"text-align: right;\">\n",
       "      <th></th>\n",
       "      <th>Experience Years</th>\n",
       "      <th>Salary</th>\n",
       "    </tr>\n",
       "  </thead>\n",
       "  <tbody>\n",
       "    <tr>\n",
       "      <th>0</th>\n",
       "      <td>1.1</td>\n",
       "      <td>39343</td>\n",
       "    </tr>\n",
       "    <tr>\n",
       "      <th>1</th>\n",
       "      <td>1.2</td>\n",
       "      <td>42774</td>\n",
       "    </tr>\n",
       "    <tr>\n",
       "      <th>2</th>\n",
       "      <td>1.3</td>\n",
       "      <td>46205</td>\n",
       "    </tr>\n",
       "    <tr>\n",
       "      <th>3</th>\n",
       "      <td>1.5</td>\n",
       "      <td>37731</td>\n",
       "    </tr>\n",
       "    <tr>\n",
       "      <th>4</th>\n",
       "      <td>2.0</td>\n",
       "      <td>43525</td>\n",
       "    </tr>\n",
       "    <tr>\n",
       "      <th>5</th>\n",
       "      <td>2.2</td>\n",
       "      <td>39891</td>\n",
       "    </tr>\n",
       "    <tr>\n",
       "      <th>6</th>\n",
       "      <td>2.5</td>\n",
       "      <td>48266</td>\n",
       "    </tr>\n",
       "    <tr>\n",
       "      <th>7</th>\n",
       "      <td>2.9</td>\n",
       "      <td>56642</td>\n",
       "    </tr>\n",
       "    <tr>\n",
       "      <th>8</th>\n",
       "      <td>3.0</td>\n",
       "      <td>60150</td>\n",
       "    </tr>\n",
       "    <tr>\n",
       "      <th>9</th>\n",
       "      <td>3.2</td>\n",
       "      <td>54445</td>\n",
       "    </tr>\n",
       "    <tr>\n",
       "      <th>10</th>\n",
       "      <td>3.2</td>\n",
       "      <td>64445</td>\n",
       "    </tr>\n",
       "    <tr>\n",
       "      <th>11</th>\n",
       "      <td>3.5</td>\n",
       "      <td>60000</td>\n",
       "    </tr>\n",
       "    <tr>\n",
       "      <th>12</th>\n",
       "      <td>3.7</td>\n",
       "      <td>57189</td>\n",
       "    </tr>\n",
       "    <tr>\n",
       "      <th>13</th>\n",
       "      <td>3.8</td>\n",
       "      <td>60200</td>\n",
       "    </tr>\n",
       "    <tr>\n",
       "      <th>14</th>\n",
       "      <td>3.9</td>\n",
       "      <td>63218</td>\n",
       "    </tr>\n",
       "    <tr>\n",
       "      <th>15</th>\n",
       "      <td>4.0</td>\n",
       "      <td>55794</td>\n",
       "    </tr>\n",
       "    <tr>\n",
       "      <th>16</th>\n",
       "      <td>4.0</td>\n",
       "      <td>56957</td>\n",
       "    </tr>\n",
       "    <tr>\n",
       "      <th>17</th>\n",
       "      <td>4.1</td>\n",
       "      <td>57081</td>\n",
       "    </tr>\n",
       "    <tr>\n",
       "      <th>18</th>\n",
       "      <td>4.3</td>\n",
       "      <td>59095</td>\n",
       "    </tr>\n",
       "    <tr>\n",
       "      <th>19</th>\n",
       "      <td>4.5</td>\n",
       "      <td>61111</td>\n",
       "    </tr>\n",
       "    <tr>\n",
       "      <th>20</th>\n",
       "      <td>4.7</td>\n",
       "      <td>64500</td>\n",
       "    </tr>\n",
       "    <tr>\n",
       "      <th>21</th>\n",
       "      <td>4.9</td>\n",
       "      <td>67938</td>\n",
       "    </tr>\n",
       "    <tr>\n",
       "      <th>22</th>\n",
       "      <td>5.1</td>\n",
       "      <td>66029</td>\n",
       "    </tr>\n",
       "    <tr>\n",
       "      <th>23</th>\n",
       "      <td>5.3</td>\n",
       "      <td>83088</td>\n",
       "    </tr>\n",
       "    <tr>\n",
       "      <th>24</th>\n",
       "      <td>5.5</td>\n",
       "      <td>82200</td>\n",
       "    </tr>\n",
       "    <tr>\n",
       "      <th>25</th>\n",
       "      <td>5.9</td>\n",
       "      <td>81363</td>\n",
       "    </tr>\n",
       "    <tr>\n",
       "      <th>26</th>\n",
       "      <td>6.0</td>\n",
       "      <td>93940</td>\n",
       "    </tr>\n",
       "    <tr>\n",
       "      <th>27</th>\n",
       "      <td>6.2</td>\n",
       "      <td>91000</td>\n",
       "    </tr>\n",
       "    <tr>\n",
       "      <th>28</th>\n",
       "      <td>6.5</td>\n",
       "      <td>90000</td>\n",
       "    </tr>\n",
       "    <tr>\n",
       "      <th>29</th>\n",
       "      <td>6.8</td>\n",
       "      <td>91738</td>\n",
       "    </tr>\n",
       "    <tr>\n",
       "      <th>30</th>\n",
       "      <td>7.1</td>\n",
       "      <td>98273</td>\n",
       "    </tr>\n",
       "    <tr>\n",
       "      <th>31</th>\n",
       "      <td>7.9</td>\n",
       "      <td>101302</td>\n",
       "    </tr>\n",
       "    <tr>\n",
       "      <th>32</th>\n",
       "      <td>8.2</td>\n",
       "      <td>113812</td>\n",
       "    </tr>\n",
       "    <tr>\n",
       "      <th>33</th>\n",
       "      <td>8.5</td>\n",
       "      <td>111620</td>\n",
       "    </tr>\n",
       "    <tr>\n",
       "      <th>34</th>\n",
       "      <td>8.7</td>\n",
       "      <td>109431</td>\n",
       "    </tr>\n",
       "    <tr>\n",
       "      <th>35</th>\n",
       "      <td>9.0</td>\n",
       "      <td>105582</td>\n",
       "    </tr>\n",
       "    <tr>\n",
       "      <th>36</th>\n",
       "      <td>9.5</td>\n",
       "      <td>116969</td>\n",
       "    </tr>\n",
       "    <tr>\n",
       "      <th>37</th>\n",
       "      <td>9.6</td>\n",
       "      <td>112635</td>\n",
       "    </tr>\n",
       "    <tr>\n",
       "      <th>38</th>\n",
       "      <td>10.3</td>\n",
       "      <td>122391</td>\n",
       "    </tr>\n",
       "    <tr>\n",
       "      <th>39</th>\n",
       "      <td>10.5</td>\n",
       "      <td>121872</td>\n",
       "    </tr>\n",
       "  </tbody>\n",
       "</table>\n",
       "</div>"
      ],
      "text/plain": [
       "    Experience Years  Salary\n",
       "0                1.1   39343\n",
       "1                1.2   42774\n",
       "2                1.3   46205\n",
       "3                1.5   37731\n",
       "4                2.0   43525\n",
       "5                2.2   39891\n",
       "6                2.5   48266\n",
       "7                2.9   56642\n",
       "8                3.0   60150\n",
       "9                3.2   54445\n",
       "10               3.2   64445\n",
       "11               3.5   60000\n",
       "12               3.7   57189\n",
       "13               3.8   60200\n",
       "14               3.9   63218\n",
       "15               4.0   55794\n",
       "16               4.0   56957\n",
       "17               4.1   57081\n",
       "18               4.3   59095\n",
       "19               4.5   61111\n",
       "20               4.7   64500\n",
       "21               4.9   67938\n",
       "22               5.1   66029\n",
       "23               5.3   83088\n",
       "24               5.5   82200\n",
       "25               5.9   81363\n",
       "26               6.0   93940\n",
       "27               6.2   91000\n",
       "28               6.5   90000\n",
       "29               6.8   91738\n",
       "30               7.1   98273\n",
       "31               7.9  101302\n",
       "32               8.2  113812\n",
       "33               8.5  111620\n",
       "34               8.7  109431\n",
       "35               9.0  105582\n",
       "36               9.5  116969\n",
       "37               9.6  112635\n",
       "38              10.3  122391\n",
       "39              10.5  121872"
      ]
     },
     "execution_count": 3,
     "metadata": {},
     "output_type": "execute_result"
    }
   ],
   "source": [
    "df"
   ]
  },
  {
   "cell_type": "code",
   "execution_count": 5,
   "metadata": {},
   "outputs": [
    {
     "data": {
      "text/plain": [
       "<matplotlib.collections.PathCollection at 0x29e0f125bd0>"
      ]
     },
     "execution_count": 5,
     "metadata": {},
     "output_type": "execute_result"
    },
    {
     "data": {
      "image/png": "[encoded data removed]",
      "text/plain": [
       "<Figure size 640x480 with 1 Axes>"
      ]
     },
     "metadata": {},
     "output_type": "display_data"
    }
   ],
   "source": [
    "plt.scatter(df['Experience Years'],df['Salary'])"
   ]
  },
  {
   "cell_type": "code",
   "execution_count": 11,
   "metadata": {},
   "outputs": [],
   "source": [
    "x = df[['Experience Years']]\n",
    "y = df[['Salary']]"
   ]
  },
  {
   "cell_type": "code",
   "execution_count": 12,
   "metadata": {},
   "outputs": [],
   "source": [
    "from sklearn.linear_model import LinearRegression "
   ]
  },
  {
   "cell_type": "code",
   "execution_count": 13,
   "metadata": {},
   "outputs": [],
   "source": [
    "reg = LinearRegression()"
   ]
  },
  {
   "cell_type": "code",
   "execution_count": 16,
   "metadata": {},
   "outputs": [],
   "source": [
    "P_salary = reg.fit(x,y)"
   ]
  },
  {
   "cell_type": "code",
   "execution_count": 17,
   "metadata": {},
   "outputs": [
    {
     "data": {
      "text/plain": [
       "array([25673.01576053])"
      ]
     },
     "execution_count": 17,
     "metadata": {},
     "output_type": "execute_result"
    }
   ],
   "source": [
    "P_salary.intercept_"
   ]
  },
  {
   "cell_type": "code",
   "execution_count": 18,
   "metadata": {},
   "outputs": [
    {
     "data": {
      "text/plain": [
       "array([[9523.65050742]])"
      ]
     },
     "execution_count": 18,
     "metadata": {},
     "output_type": "execute_result"
    }
   ],
   "source": [
    "P_salary.coef_"
   ]
  },
  {
   "cell_type": "code",
   "execution_count": 21,
   "metadata": {},
   "outputs": [],
   "source": [
    "df['predicted_salary'] = P_salary.predict(x)"
   ]
  },
  {
   "cell_type": "code",
   "execution_count": 22,
   "metadata": {},
   "outputs": [
    {
     "data": {
      "application/vnd.microsoft.datawrangler.viewer.v0+json": {
       "columns": [
        {
         "name": "index",
         "rawType": "int64",
         "type": "integer"
        },
        {
         "name": "Experience Years",
         "rawType": "float64",
         "type": "float"
        },
        {
         "name": "Salary",
         "rawType": "int64",
         "type": "integer"
        },
        {
         "name": "predicted_salary",
         "rawType": "float64",
         "type": "float"
        }
       ],
       "conversionMethod": "pd.DataFrame",
       "ref": "c17c7766-af5d-4eac-97ca-8530683ad249",
       "rows": [
        [
         "0",
         "1.1",
         "39343",
         "36149.031318689755"
        ],
        [
         "1",
         "1.2",
         "42774",
         "37101.396369431524"
        ],
        [
         "2",
         "1.3",
         "46205",
         "38053.761420173294"
        ],
        [
         "3",
         "1.5",
         "37731",
         "39958.49152165683"
        ],
        [
         "4",
         "2.0",
         "43525",
         "44720.31677536569"
        ],
        [
         "5",
         "2.2",
         "39891",
         "46625.04687684923"
        ],
        [
         "6",
         "2.5",
         "48266",
         "49482.142029074545"
        ],
        [
         "7",
         "2.9",
         "56642",
         "53291.60223204162"
        ],
        [
         "8",
         "3.0",
         "60150",
         "54243.96728278339"
        ],
        [
         "9",
         "3.2",
         "54445",
         "56148.69738426694"
        ],
        [
         "10",
         "3.2",
         "64445",
         "56148.69738426694"
        ],
        [
         "11",
         "3.5",
         "60000",
         "59005.79253649224"
        ],
        [
         "12",
         "3.7",
         "57189",
         "60910.52263797579"
        ],
        [
         "13",
         "3.8",
         "60200",
         "61862.88768871756"
        ],
        [
         "14",
         "3.9",
         "63218",
         "62815.25273945933"
        ],
        [
         "15",
         "4.0",
         "55794",
         "63767.6177902011"
        ],
        [
         "16",
         "4.0",
         "56957",
         "63767.6177902011"
        ],
        [
         "17",
         "4.1",
         "57081",
         "64719.98284094287"
        ],
        [
         "18",
         "4.3",
         "59095",
         "66624.71294242641"
        ],
        [
         "19",
         "4.5",
         "61111",
         "68529.44304390995"
        ],
        [
         "20",
         "4.7",
         "64500",
         "70434.17314539349"
        ],
        [
         "21",
         "4.9",
         "67938",
         "72338.90324687703"
        ],
        [
         "22",
         "5.1",
         "66029",
         "74243.63334836057"
        ],
        [
         "23",
         "5.3",
         "83088",
         "76148.36344984411"
        ],
        [
         "24",
         "5.5",
         "82200",
         "78053.09355132765"
        ],
        [
         "25",
         "5.9",
         "81363",
         "81862.55375429473"
        ],
        [
         "26",
         "6.0",
         "93940",
         "82814.9188050365"
        ],
        [
         "27",
         "6.2",
         "91000",
         "84719.64890652004"
        ],
        [
         "28",
         "6.5",
         "90000",
         "87576.74405874536"
        ],
        [
         "29",
         "6.8",
         "91738",
         "90433.83921097068"
        ],
        [
         "30",
         "7.1",
         "98273",
         "93290.93436319598"
        ],
        [
         "31",
         "7.9",
         "101302",
         "100909.85476913015"
        ],
        [
         "32",
         "8.2",
         "113812",
         "103766.94992135545"
        ],
        [
         "33",
         "8.5",
         "111620",
         "106624.04507358077"
        ],
        [
         "34",
         "8.7",
         "109431",
         "108528.7751750643"
        ],
        [
         "35",
         "9.0",
         "105582",
         "111385.87032728962"
        ],
        [
         "36",
         "9.5",
         "116969",
         "116147.69558099846"
        ],
        [
         "37",
         "9.6",
         "112635",
         "117100.06063174024"
        ],
        [
         "38",
         "10.3",
         "122391",
         "123766.61598693264"
        ],
        [
         "39",
         "10.5",
         "121872",
         "125671.34608841618"
        ]
       ],
       "shape": {
        "columns": 3,
        "rows": 40
       }
      },
      "text/html": [
       "<div>\n",
       "<style scoped>\n",
       "    .dataframe tbody tr th:only-of-type {\n",
       "        vertical-align: middle;\n",
       "    }\n",
       "\n",
       "    .dataframe tbody tr th {\n",
       "        vertical-align: top;\n",
       "    }\n",
       "\n",
       "    .dataframe thead th {\n",
       "        text-align: right;\n",
       "    }\n",
       "</style>\n",
       "<table border=\"1\" class=\"dataframe\">\n",
       "  <thead>\n",
       "    <tr style=\"text-align: right;\">\n",
       "      <th></th>\n",
       "      <th>Experience Years</th>\n",
       "      <th>Salary</th>\n",
       "      <th>predicted_salary</th>\n",
       "    </tr>\n",
       "  </thead>\n",
       "  <tbody>\n",
       "    <tr>\n",
       "      <th>0</th>\n",
       "      <td>1.1</td>\n",
       "      <td>39343</td>\n",
       "      <td>36149.031319</td>\n",
       "    </tr>\n",
       "    <tr>\n",
       "      <th>1</th>\n",
       "      <td>1.2</td>\n",
       "      <td>42774</td>\n",
       "      <td>37101.396369</td>\n",
       "    </tr>\n",
       "    <tr>\n",
       "      <th>2</th>\n",
       "      <td>1.3</td>\n",
       "      <td>46205</td>\n",
       "      <td>38053.761420</td>\n",
       "    </tr>\n",
       "    <tr>\n",
       "      <th>3</th>\n",
       "      <td>1.5</td>\n",
       "      <td>37731</td>\n",
       "      <td>39958.491522</td>\n",
       "    </tr>\n",
       "    <tr>\n",
       "      <th>4</th>\n",
       "      <td>2.0</td>\n",
       "      <td>43525</td>\n",
       "      <td>44720.316775</td>\n",
       "    </tr>\n",
       "    <tr>\n",
       "      <th>5</th>\n",
       "      <td>2.2</td>\n",
       "      <td>39891</td>\n",
       "      <td>46625.046877</td>\n",
       "    </tr>\n",
       "    <tr>\n",
       "      <th>6</th>\n",
       "      <td>2.5</td>\n",
       "      <td>48266</td>\n",
       "      <td>49482.142029</td>\n",
       "    </tr>\n",
       "    <tr>\n",
       "      <th>7</th>\n",
       "      <td>2.9</td>\n",
       "      <td>56642</td>\n",
       "      <td>53291.602232</td>\n",
       "    </tr>\n",
       "    <tr>\n",
       "      <th>8</th>\n",
       "      <td>3.0</td>\n",
       "      <td>60150</td>\n",
       "      <td>54243.967283</td>\n",
       "    </tr>\n",
       "    <tr>\n",
       "      <th>9</th>\n",
       "      <td>3.2</td>\n",
       "      <td>54445</td>\n",
       "      <td>56148.697384</td>\n",
       "    </tr>\n",
       "    <tr>\n",
       "      <th>10</th>\n",
       "      <td>3.2</td>\n",
       "      <td>64445</td>\n",
       "      <td>56148.697384</td>\n",
       "    </tr>\n",
       "    <tr>\n",
       "      <th>11</th>\n",
       "      <td>3.5</td>\n",
       "      <td>60000</td>\n",
       "      <td>59005.792536</td>\n",
       "    </tr>\n",
       "    <tr>\n",
       "      <th>12</th>\n",
       "      <td>3.7</td>\n",
       "      <td>57189</td>\n",
       "      <td>60910.522638</td>\n",
       "    </tr>\n",
       "    <tr>\n",
       "      <th>13</th>\n",
       "      <td>3.8</td>\n",
       "      <td>60200</td>\n",
       "      <td>61862.887689</td>\n",
       "    </tr>\n",
       "    <tr>\n",
       "      <th>14</th>\n",
       "      <td>3.9</td>\n",
       "      <td>63218</td>\n",
       "      <td>62815.252739</td>\n",
       "    </tr>\n",
       "    <tr>\n",
       "      <th>15</th>\n",
       "      <td>4.0</td>\n",
       "      <td>55794</td>\n",
       "      <td>63767.617790</td>\n",
       "    </tr>\n",
       "    <tr>\n",
       "      <th>16</th>\n",
       "      <td>4.0</td>\n",
       "      <td>56957</td>\n",
       "      <td>63767.617790</td>\n",
       "    </tr>\n",
       "    <tr>\n",
       "      <th>17</th>\n",
       "      <td>4.1</td>\n",
       "      <td>57081</td>\n",
       "      <td>64719.982841</td>\n",
       "    </tr>\n",
       "    <tr>\n",
       "      <th>18</th>\n",
       "      <td>4.3</td>\n",
       "      <td>59095</td>\n",
       "      <td>66624.712942</td>\n",
       "    </tr>\n",
       "    <tr>\n",
       "      <th>19</th>\n",
       "      <td>4.5</td>\n",
       "      <td>61111</td>\n",
       "      <td>68529.443044</td>\n",
       "    </tr>\n",
       "    <tr>\n",
       "      <th>20</th>\n",
       "      <td>4.7</td>\n",
       "      <td>64500</td>\n",
       "      <td>70434.173145</td>\n",
       "    </tr>\n",
       "    <tr>\n",
       "      <th>21</th>\n",
       "      <td>4.9</td>\n",
       "      <td>67938</td>\n",
       "      <td>72338.903247</td>\n",
       "    </tr>\n",
       "    <tr>\n",
       "      <th>22</th>\n",
       "      <td>5.1</td>\n",
       "      <td>66029</td>\n",
       "      <td>74243.633348</td>\n",
       "    </tr>\n",
       "    <tr>\n",
       "      <th>23</th>\n",
       "      <td>5.3</td>\n",
       "      <td>83088</td>\n",
       "      <td>76148.363450</td>\n",
       "    </tr>\n",
       "    <tr>\n",
       "      <th>24</th>\n",
       "      <td>5.5</td>\n",
       "      <td>82200</td>\n",
       "      <td>78053.093551</td>\n",
       "    </tr>\n",
       "    <tr>\n",
       "      <th>25</th>\n",
       "      <td>5.9</td>\n",
       "      <td>81363</td>\n",
       "      <td>81862.553754</td>\n",
       "    </tr>\n",
       "    <tr>\n",
       "      <th>26</th>\n",
       "      <td>6.0</td>\n",
       "      <td>93940</td>\n",
       "      <td>82814.918805</td>\n",
       "    </tr>\n",
       "    <tr>\n",
       "      <th>27</th>\n",
       "      <td>6.2</td>\n",
       "      <td>91000</td>\n",
       "      <td>84719.648907</td>\n",
       "    </tr>\n",
       "    <tr>\n",
       "      <th>28</th>\n",
       "      <td>6.5</td>\n",
       "      <td>90000</td>\n",
       "      <td>87576.744059</td>\n",
       "    </tr>\n",
       "    <tr>\n",
       "      <th>29</th>\n",
       "      <td>6.8</td>\n",
       "      <td>91738</td>\n",
       "      <td>90433.839211</td>\n",
       "    </tr>\n",
       "    <tr>\n",
       "      <th>30</th>\n",
       "      <td>7.1</td>\n",
       "      <td>98273</td>\n",
       "      <td>93290.934363</td>\n",
       "    </tr>\n",
       "    <tr>\n",
       "      <th>31</th>\n",
       "      <td>7.9</td>\n",
       "      <td>101302</td>\n",
       "      <td>100909.854769</td>\n",
       "    </tr>\n",
       "    <tr>\n",
       "      <th>32</th>\n",
       "      <td>8.2</td>\n",
       "      <td>113812</td>\n",
       "      <td>103766.949921</td>\n",
       "    </tr>\n",
       "    <tr>\n",
       "      <th>33</th>\n",
       "      <td>8.5</td>\n",
       "      <td>111620</td>\n",
       "      <td>106624.045074</td>\n",
       "    </tr>\n",
       "    <tr>\n",
       "      <th>34</th>\n",
       "      <td>8.7</td>\n",
       "      <td>109431</td>\n",
       "      <td>108528.775175</td>\n",
       "    </tr>\n",
       "    <tr>\n",
       "      <th>35</th>\n",
       "      <td>9.0</td>\n",
       "      <td>105582</td>\n",
       "      <td>111385.870327</td>\n",
       "    </tr>\n",
       "    <tr>\n",
       "      <th>36</th>\n",
       "      <td>9.5</td>\n",
       "      <td>116969</td>\n",
       "      <td>116147.695581</td>\n",
       "    </tr>\n",
       "    <tr>\n",
       "      <th>37</th>\n",
       "      <td>9.6</td>\n",
       "      <td>112635</td>\n",
       "      <td>117100.060632</td>\n",
       "    </tr>\n",
       "    <tr>\n",
       "      <th>38</th>\n",
       "      <td>10.3</td>\n",
       "      <td>122391</td>\n",
       "      <td>123766.615987</td>\n",
       "    </tr>\n",
       "    <tr>\n",
       "      <th>39</th>\n",
       "      <td>10.5</td>\n",
       "      <td>121872</td>\n",
       "      <td>125671.346088</td>\n",
       "    </tr>\n",
       "  </tbody>\n",
       "</table>\n",
       "</div>"
      ],
      "text/plain": [
       "    Experience Years  Salary  predicted_salary\n",
       "0                1.1   39343      36149.031319\n",
       "1                1.2   42774      37101.396369\n",
       "2                1.3   46205      38053.761420\n",
       "3                1.5   37731      39958.491522\n",
       "4                2.0   43525      44720.316775\n",
       "5                2.2   39891      46625.046877\n",
       "6                2.5   48266      49482.142029\n",
       "7                2.9   56642      53291.602232\n",
       "8                3.0   60150      54243.967283\n",
       "9                3.2   54445      56148.697384\n",
       "10               3.2   64445      56148.697384\n",
       "11               3.5   60000      59005.792536\n",
       "12               3.7   57189      60910.522638\n",
       "13               3.8   60200      61862.887689\n",
       "14               3.9   63218      62815.252739\n",
       "15               4.0   55794      63767.617790\n",
       "16               4.0   56957      63767.617790\n",
       "17               4.1   57081      64719.982841\n",
       "18               4.3   59095      66624.712942\n",
       "19               4.5   61111      68529.443044\n",
       "20               4.7   64500      70434.173145\n",
       "21               4.9   67938      72338.903247\n",
       "22               5.1   66029      74243.633348\n",
       "23               5.3   83088      76148.363450\n",
       "24               5.5   82200      78053.093551\n",
       "25               5.9   81363      81862.553754\n",
       "26               6.0   93940      82814.918805\n",
       "27               6.2   91000      84719.648907\n",
       "28               6.5   90000      87576.744059\n",
       "29               6.8   91738      90433.839211\n",
       "30               7.1   98273      93290.934363\n",
       "31               7.9  101302     100909.854769\n",
       "32               8.2  113812     103766.949921\n",
       "33               8.5  111620     106624.045074\n",
       "34               8.7  109431     108528.775175\n",
       "35               9.0  105582     111385.870327\n",
       "36               9.5  116969     116147.695581\n",
       "37               9.6  112635     117100.060632\n",
       "38              10.3  122391     123766.615987\n",
       "39              10.5  121872     125671.346088"
      ]
     },
     "execution_count": 22,
     "metadata": {},
     "output_type": "execute_result"
    }
   ],
   "source": [
    "df"
   ]
  },
  {
   "cell_type": "code",
   "execution_count": 23,
   "metadata": {},
   "outputs": [
    {
     "data": {
      "text/plain": [
       "0.9558814451799361"
      ]
     },
     "execution_count": 23,
     "metadata": {},
     "output_type": "execute_result"
    }
   ],
   "source": [
    "reg.score(x,y)"
   ]
  },
  {
   "cell_type": "code",
   "execution_count": 24,
   "metadata": {},
   "outputs": [],
   "source": [
    "df['lose/error'] = df['Salary'] - df['predicted_salary']"
   ]
  },
  {
   "cell_type": "code",
   "execution_count": 25,
   "metadata": {},
   "outputs": [
    {
     "data": {
      "application/vnd.microsoft.datawrangler.viewer.v0+json": {
       "columns": [
        {
         "name": "index",
         "rawType": "int64",
         "type": "integer"
        },
        {
         "name": "Experience Years",
         "rawType": "float64",
         "type": "float"
        },
        {
         "name": "Salary",
         "rawType": "int64",
         "type": "integer"
        },
        {
         "name": "predicted_salary",
         "rawType": "float64",
         "type": "float"
        },
        {
         "name": "lose/error",
         "rawType": "float64",
         "type": "float"
        }
       ],
       "conversionMethod": "pd.DataFrame",
       "ref": "78c23333-17d8-4ae6-b0bb-f0c15d8538a6",
       "rows": [
        [
         "0",
         "1.1",
         "39343",
         "36149.031318689755",
         "3193.9686813102453"
        ],
        [
         "1",
         "1.2",
         "42774",
         "37101.396369431524",
         "5672.603630568476"
        ],
        [
         "2",
         "1.3",
         "46205",
         "38053.761420173294",
         "8151.238579826706"
        ],
        [
         "3",
         "1.5",
         "37731",
         "39958.49152165683",
         "-2227.4915216568334"
        ],
        [
         "4",
         "2.0",
         "43525",
         "44720.31677536569",
         "-1195.316775365689"
        ],
        [
         "5",
         "2.2",
         "39891",
         "46625.04687684923",
         "-6734.046876849228"
        ],
        [
         "6",
         "2.5",
         "48266",
         "49482.142029074545",
         "-1216.1420290745446"
        ],
        [
         "7",
         "2.9",
         "56642",
         "53291.60223204162",
         "3350.397767958377"
        ],
        [
         "8",
         "3.0",
         "60150",
         "54243.96728278339",
         "5906.032717216607"
        ],
        [
         "9",
         "3.2",
         "54445",
         "56148.69738426694",
         "-1703.6973842669395"
        ],
        [
         "10",
         "3.2",
         "64445",
         "56148.69738426694",
         "8296.30261573306"
        ],
        [
         "11",
         "3.5",
         "60000",
         "59005.79253649224",
         "994.2074635077588"
        ],
        [
         "12",
         "3.7",
         "57189",
         "60910.52263797579",
         "-3721.522637975788"
        ],
        [
         "13",
         "3.8",
         "60200",
         "61862.88768871756",
         "-1662.8876887175575"
        ],
        [
         "14",
         "3.9",
         "63218",
         "62815.25273945933",
         "402.74726054067287"
        ],
        [
         "15",
         "4.0",
         "55794",
         "63767.6177902011",
         "-7973.617790201097"
        ],
        [
         "16",
         "4.0",
         "56957",
         "63767.6177902011",
         "-6810.617790201097"
        ],
        [
         "17",
         "4.1",
         "57081",
         "64719.98284094287",
         "-7638.9828409428665"
        ],
        [
         "18",
         "4.3",
         "59095",
         "66624.71294242641",
         "-7529.712942426413"
        ],
        [
         "19",
         "4.5",
         "61111",
         "68529.44304390995",
         "-7418.443043909952"
        ],
        [
         "20",
         "4.7",
         "64500",
         "70434.17314539349",
         "-5934.173145393492"
        ],
        [
         "21",
         "4.9",
         "67938",
         "72338.90324687703",
         "-4400.903246877031"
        ],
        [
         "22",
         "5.1",
         "66029",
         "74243.63334836057",
         "-8214.63334836057"
        ],
        [
         "23",
         "5.3",
         "83088",
         "76148.36344984411",
         "6939.63655015589"
        ],
        [
         "24",
         "5.5",
         "82200",
         "78053.09355132765",
         "4146.906448672351"
        ],
        [
         "25",
         "5.9",
         "81363",
         "81862.55375429473",
         "-499.5537542947277"
        ],
        [
         "26",
         "6.0",
         "93940",
         "82814.9188050365",
         "11125.081194963495"
        ],
        [
         "27",
         "6.2",
         "91000",
         "84719.64890652004",
         "6280.351093479956"
        ],
        [
         "28",
         "6.5",
         "90000",
         "87576.74405874536",
         "2423.2559412546398"
        ],
        [
         "29",
         "6.8",
         "91738",
         "90433.83921097068",
         "1304.1607890293235"
        ],
        [
         "30",
         "7.1",
         "98273",
         "93290.93436319598",
         "4982.065636804022"
        ],
        [
         "31",
         "7.9",
         "101302",
         "100909.85476913015",
         "392.1452308698499"
        ],
        [
         "32",
         "8.2",
         "113812",
         "103766.94992135545",
         "10045.050078644548"
        ],
        [
         "33",
         "8.5",
         "111620",
         "106624.04507358077",
         "4995.954926419232"
        ],
        [
         "34",
         "8.7",
         "109431",
         "108528.7751750643",
         "902.2248249357071"
        ],
        [
         "35",
         "9.0",
         "105582",
         "111385.87032728962",
         "-5803.870327289624"
        ],
        [
         "36",
         "9.5",
         "116969",
         "116147.69558099846",
         "821.3044190015353"
        ],
        [
         "37",
         "9.6",
         "112635",
         "117100.06063174024",
         "-4465.060631740242"
        ],
        [
         "38",
         "10.3",
         "122391",
         "123766.61598693264",
         "-1375.6159869326366"
        ],
        [
         "39",
         "10.5",
         "121872",
         "125671.34608841618",
         "-3799.346088416176"
        ]
       ],
       "shape": {
        "columns": 4,
        "rows": 40
       }
      },
      "text/html": [
       "<div>\n",
       "<style scoped>\n",
       "    .dataframe tbody tr th:only-of-type {\n",
       "        vertical-align: middle;\n",
       "    }\n",
       "\n",
       "    .dataframe tbody tr th {\n",
       "        vertical-align: top;\n",
       "    }\n",
       "\n",
       "    .dataframe thead th {\n",
       "        text-align: right;\n",
       "    }\n",
       "</style>\n",
       "<table border=\"1\" class=\"dataframe\">\n",
       "  <thead>\n",
       "    <tr style=\"text-align: right;\">\n",
       "      <th></th>\n",
       "      <th>Experience Years</th>\n",
       "      <th>Salary</th>\n",
       "      <th>predicted_salary</th>\n",
       "      <th>lose/error</th>\n",
       "    </tr>\n",
       "  </thead>\n",
       "  <tbody>\n",
       "    <tr>\n",
       "      <th>0</th>\n",
       "      <td>1.1</td>\n",
       "      <td>39343</td>\n",
       "      <td>36149.031319</td>\n",
       "      <td>3193.968681</td>\n",
       "    </tr>\n",
       "    <tr>\n",
       "      <th>1</th>\n",
       "      <td>1.2</td>\n",
       "      <td>42774</td>\n",
       "      <td>37101.396369</td>\n",
       "      <td>5672.603631</td>\n",
       "    </tr>\n",
       "    <tr>\n",
       "      <th>2</th>\n",
       "      <td>1.3</td>\n",
       "      <td>46205</td>\n",
       "      <td>38053.761420</td>\n",
       "      <td>8151.238580</td>\n",
       "    </tr>\n",
       "    <tr>\n",
       "      <th>3</th>\n",
       "      <td>1.5</td>\n",
       "      <td>37731</td>\n",
       "      <td>39958.491522</td>\n",
       "      <td>-2227.491522</td>\n",
       "    </tr>\n",
       "    <tr>\n",
       "      <th>4</th>\n",
       "      <td>2.0</td>\n",
       "      <td>43525</td>\n",
       "      <td>44720.316775</td>\n",
       "      <td>-1195.316775</td>\n",
       "    </tr>\n",
       "    <tr>\n",
       "      <th>5</th>\n",
       "      <td>2.2</td>\n",
       "      <td>39891</td>\n",
       "      <td>46625.046877</td>\n",
       "      <td>-6734.046877</td>\n",
       "    </tr>\n",
       "    <tr>\n",
       "      <th>6</th>\n",
       "      <td>2.5</td>\n",
       "      <td>48266</td>\n",
       "      <td>49482.142029</td>\n",
       "      <td>-1216.142029</td>\n",
       "    </tr>\n",
       "    <tr>\n",
       "      <th>7</th>\n",
       "      <td>2.9</td>\n",
       "      <td>56642</td>\n",
       "      <td>53291.602232</td>\n",
       "      <td>3350.397768</td>\n",
       "    </tr>\n",
       "    <tr>\n",
       "      <th>8</th>\n",
       "      <td>3.0</td>\n",
       "      <td>60150</td>\n",
       "      <td>54243.967283</td>\n",
       "      <td>5906.032717</td>\n",
       "    </tr>\n",
       "    <tr>\n",
       "      <th>9</th>\n",
       "      <td>3.2</td>\n",
       "      <td>54445</td>\n",
       "      <td>56148.697384</td>\n",
       "      <td>-1703.697384</td>\n",
       "    </tr>\n",
       "    <tr>\n",
       "      <th>10</th>\n",
       "      <td>3.2</td>\n",
       "      <td>64445</td>\n",
       "      <td>56148.697384</td>\n",
       "      <td>8296.302616</td>\n",
       "    </tr>\n",
       "    <tr>\n",
       "      <th>11</th>\n",
       "      <td>3.5</td>\n",
       "      <td>60000</td>\n",
       "      <td>59005.792536</td>\n",
       "      <td>994.207464</td>\n",
       "    </tr>\n",
       "    <tr>\n",
       "      <th>12</th>\n",
       "      <td>3.7</td>\n",
       "      <td>57189</td>\n",
       "      <td>60910.522638</td>\n",
       "      <td>-3721.522638</td>\n",
       "    </tr>\n",
       "    <tr>\n",
       "      <th>13</th>\n",
       "      <td>3.8</td>\n",
       "      <td>60200</td>\n",
       "      <td>61862.887689</td>\n",
       "      <td>-1662.887689</td>\n",
       "    </tr>\n",
       "    <tr>\n",
       "      <th>14</th>\n",
       "      <td>3.9</td>\n",
       "      <td>63218</td>\n",
       "      <td>62815.252739</td>\n",
       "      <td>402.747261</td>\n",
       "    </tr>\n",
       "    <tr>\n",
       "      <th>15</th>\n",
       "      <td>4.0</td>\n",
       "      <td>55794</td>\n",
       "      <td>63767.617790</td>\n",
       "      <td>-7973.617790</td>\n",
       "    </tr>\n",
       "    <tr>\n",
       "      <th>16</th>\n",
       "      <td>4.0</td>\n",
       "      <td>56957</td>\n",
       "      <td>63767.617790</td>\n",
       "      <td>-6810.617790</td>\n",
       "    </tr>\n",
       "    <tr>\n",
       "      <th>17</th>\n",
       "      <td>4.1</td>\n",
       "      <td>57081</td>\n",
       "      <td>64719.982841</td>\n",
       "      <td>-7638.982841</td>\n",
       "    </tr>\n",
       "    <tr>\n",
       "      <th>18</th>\n",
       "      <td>4.3</td>\n",
       "      <td>59095</td>\n",
       "      <td>66624.712942</td>\n",
       "      <td>-7529.712942</td>\n",
       "    </tr>\n",
       "    <tr>\n",
       "      <th>19</th>\n",
       "      <td>4.5</td>\n",
       "      <td>61111</td>\n",
       "      <td>68529.443044</td>\n",
       "      <td>-7418.443044</td>\n",
       "    </tr>\n",
       "    <tr>\n",
       "      <th>20</th>\n",
       "      <td>4.7</td>\n",
       "      <td>64500</td>\n",
       "      <td>70434.173145</td>\n",
       "      <td>-5934.173145</td>\n",
       "    </tr>\n",
       "    <tr>\n",
       "      <th>21</th>\n",
       "      <td>4.9</td>\n",
       "      <td>67938</td>\n",
       "      <td>72338.903247</td>\n",
       "      <td>-4400.903247</td>\n",
       "    </tr>\n",
       "    <tr>\n",
       "      <th>22</th>\n",
       "      <td>5.1</td>\n",
       "      <td>66029</td>\n",
       "      <td>74243.633348</td>\n",
       "      <td>-8214.633348</td>\n",
       "    </tr>\n",
       "    <tr>\n",
       "      <th>23</th>\n",
       "      <td>5.3</td>\n",
       "      <td>83088</td>\n",
       "      <td>76148.363450</td>\n",
       "      <td>6939.636550</td>\n",
       "    </tr>\n",
       "    <tr>\n",
       "      <th>24</th>\n",
       "      <td>5.5</td>\n",
       "      <td>82200</td>\n",
       "      <td>78053.093551</td>\n",
       "      <td>4146.906449</td>\n",
       "    </tr>\n",
       "    <tr>\n",
       "      <th>25</th>\n",
       "      <td>5.9</td>\n",
       "      <td>81363</td>\n",
       "      <td>81862.553754</td>\n",
       "      <td>-499.553754</td>\n",
       "    </tr>\n",
       "    <tr>\n",
       "      <th>26</th>\n",
       "      <td>6.0</td>\n",
       "      <td>93940</td>\n",
       "      <td>82814.918805</td>\n",
       "      <td>11125.081195</td>\n",
       "    </tr>\n",
       "    <tr>\n",
       "      <th>27</th>\n",
       "      <td>6.2</td>\n",
       "      <td>91000</td>\n",
       "      <td>84719.648907</td>\n",
       "      <td>6280.351093</td>\n",
       "    </tr>\n",
       "    <tr>\n",
       "      <th>28</th>\n",
       "      <td>6.5</td>\n",
       "      <td>90000</td>\n",
       "      <td>87576.744059</td>\n",
       "      <td>2423.255941</td>\n",
       "    </tr>\n",
       "    <tr>\n",
       "      <th>29</th>\n",
       "      <td>6.8</td>\n",
       "      <td>91738</td>\n",
       "      <td>90433.839211</td>\n",
       "      <td>1304.160789</td>\n",
       "    </tr>\n",
       "    <tr>\n",
       "      <th>30</th>\n",
       "      <td>7.1</td>\n",
       "      <td>98273</td>\n",
       "      <td>93290.934363</td>\n",
       "      <td>4982.065637</td>\n",
       "    </tr>\n",
       "    <tr>\n",
       "      <th>31</th>\n",
       "      <td>7.9</td>\n",
       "      <td>101302</td>\n",
       "      <td>100909.854769</td>\n",
       "      <td>392.145231</td>\n",
       "    </tr>\n",
       "    <tr>\n",
       "      <th>32</th>\n",
       "      <td>8.2</td>\n",
       "      <td>113812</td>\n",
       "      <td>103766.949921</td>\n",
       "      <td>10045.050079</td>\n",
       "    </tr>\n",
       "    <tr>\n",
       "      <th>33</th>\n",
       "      <td>8.5</td>\n",
       "      <td>111620</td>\n",
       "      <td>106624.045074</td>\n",
       "      <td>4995.954926</td>\n",
       "    </tr>\n",
       "    <tr>\n",
       "      <th>34</th>\n",
       "      <td>8.7</td>\n",
       "      <td>109431</td>\n",
       "      <td>108528.775175</td>\n",
       "      <td>902.224825</td>\n",
       "    </tr>\n",
       "    <tr>\n",
       "      <th>35</th>\n",
       "      <td>9.0</td>\n",
       "      <td>105582</td>\n",
       "      <td>111385.870327</td>\n",
       "      <td>-5803.870327</td>\n",
       "    </tr>\n",
       "    <tr>\n",
       "      <th>36</th>\n",
       "      <td>9.5</td>\n",
       "      <td>116969</td>\n",
       "      <td>116147.695581</td>\n",
       "      <td>821.304419</td>\n",
       "    </tr>\n",
       "    <tr>\n",
       "      <th>37</th>\n",
       "      <td>9.6</td>\n",
       "      <td>112635</td>\n",
       "      <td>117100.060632</td>\n",
       "      <td>-4465.060632</td>\n",
       "    </tr>\n",
       "    <tr>\n",
       "      <th>38</th>\n",
       "      <td>10.3</td>\n",
       "      <td>122391</td>\n",
       "      <td>123766.615987</td>\n",
       "      <td>-1375.615987</td>\n",
       "    </tr>\n",
       "    <tr>\n",
       "      <th>39</th>\n",
       "      <td>10.5</td>\n",
       "      <td>121872</td>\n",
       "      <td>125671.346088</td>\n",
       "      <td>-3799.346088</td>\n",
       "    </tr>\n",
       "  </tbody>\n",
       "</table>\n",
       "</div>"
      ],
      "text/plain": [
       "    Experience Years  Salary  predicted_salary    lose/error\n",
       "0                1.1   39343      36149.031319   3193.968681\n",
       "1                1.2   42774      37101.396369   5672.603631\n",
       "2                1.3   46205      38053.761420   8151.238580\n",
       "3                1.5   37731      39958.491522  -2227.491522\n",
       "4                2.0   43525      44720.316775  -1195.316775\n",
       "5                2.2   39891      46625.046877  -6734.046877\n",
       "6                2.5   48266      49482.142029  -1216.142029\n",
       "7                2.9   56642      53291.602232   3350.397768\n",
       "8                3.0   60150      54243.967283   5906.032717\n",
       "9                3.2   54445      56148.697384  -1703.697384\n",
       "10               3.2   64445      56148.697384   8296.302616\n",
       "11               3.5   60000      59005.792536    994.207464\n",
       "12               3.7   57189      60910.522638  -3721.522638\n",
       "13               3.8   60200      61862.887689  -1662.887689\n",
       "14               3.9   63218      62815.252739    402.747261\n",
       "15               4.0   55794      63767.617790  -7973.617790\n",
       "16               4.0   56957      63767.617790  -6810.617790\n",
       "17               4.1   57081      64719.982841  -7638.982841\n",
       "18               4.3   59095      66624.712942  -7529.712942\n",
       "19               4.5   61111      68529.443044  -7418.443044\n",
       "20               4.7   64500      70434.173145  -5934.173145\n",
       "21               4.9   67938      72338.903247  -4400.903247\n",
       "22               5.1   66029      74243.633348  -8214.633348\n",
       "23               5.3   83088      76148.363450   6939.636550\n",
       "24               5.5   82200      78053.093551   4146.906449\n",
       "25               5.9   81363      81862.553754   -499.553754\n",
       "26               6.0   93940      82814.918805  11125.081195\n",
       "27               6.2   91000      84719.648907   6280.351093\n",
       "28               6.5   90000      87576.744059   2423.255941\n",
       "29               6.8   91738      90433.839211   1304.160789\n",
       "30               7.1   98273      93290.934363   4982.065637\n",
       "31               7.9  101302     100909.854769    392.145231\n",
       "32               8.2  113812     103766.949921  10045.050079\n",
       "33               8.5  111620     106624.045074   4995.954926\n",
       "34               8.7  109431     108528.775175    902.224825\n",
       "35               9.0  105582     111385.870327  -5803.870327\n",
       "36               9.5  116969     116147.695581    821.304419\n",
       "37               9.6  112635     117100.060632  -4465.060632\n",
       "38              10.3  122391     123766.615987  -1375.615987\n",
       "39              10.5  121872     125671.346088  -3799.346088"
      ]
     },
     "execution_count": 25,
     "metadata": {},
     "output_type": "execute_result"
    }
   ],
   "source": [
    "df"
   ]
  },
  {
   "cell_type": "code",
   "execution_count": null,
   "metadata": {},
   "outputs": [],
   "source": []
  }
 ],
 "metadata": {
  "kernelspec": {
   "display_name": "Python 3",
   "language": "python",
   "name": "python3"
  },
  "language_info": {
   "codemirror_mode": {
    "name": "ipython",
    "version": 3
   },
   "file_extension": ".py",
   "mimetype": "text/x-python",
   "name": "python",
   "nbconvert_exporter": "python",
   "pygments_lexer": "ipython3",
   "version": "3.11.0"
  }
 },
 "nbformat": 4,
 "nbformat_minor": 2
}
